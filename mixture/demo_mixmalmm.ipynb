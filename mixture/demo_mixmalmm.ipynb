{
 "cells": [
  {
   "cell_type": "markdown",
   "metadata": {},
   "source": [
    "### Load modules"
   ]
  },
  {
   "cell_type": "code",
   "execution_count": 1,
   "metadata": {},
   "outputs": [],
   "source": [
    "import numpy as np\n",
    "import cv2\n",
    "import sys\n",
    "import os\n",
    "import torch\n",
    "import numpy as np\n",
    "\n",
    "from pathlib import Path\n",
    "\n",
    "import decord\n",
    "from decord import VideoReader\n",
    "from decord import cpu, gpu\n",
    "decord.bridge.set_bridge('torch')"
   ]
  },
  {
   "cell_type": "code",
   "execution_count": 2,
   "metadata": {},
   "outputs": [
    {
     "name": "stdout",
     "output_type": "stream",
     "text": [
      "/e/workplace/hackathons/27-09-tagging-video/archive/MA-LMM-main/mixture\n"
     ]
    }
   ],
   "source": [
    "print(os.getcwd())\n",
    "VIDEO_DIR = Path(os.getcwd()).parent / \"example\""
   ]
  },
  {
   "cell_type": "markdown",
   "metadata": {},
   "source": [
    "### Frame mixture function"
   ]
  },
  {
   "cell_type": "markdown",
   "metadata": {},
   "source": [
    "### Load video"
   ]
  },
  {
   "cell_type": "code",
   "execution_count": 3,
   "metadata": {},
   "outputs": [],
   "source": [
    "def video_mixer(\n",
    "        vr : VideoReader, start_time=0, end_time=None,\n",
    "        threshold=120, frame_limit=100, step_frames=5\n",
    "        ):\n",
    "    \"\"\"\n",
    "    Смешивает кадры видео, используя заданный порог различия и лимит кадров.\n",
    "\n",
    "    Аргументы:\n",
    "        vr (VideoReader): Объект чтения видео.\n",
    "        start_time (int, optional): Начальное время в секундах. Defaults to 0.\n",
    "        end_time (int, optional): Конечное время в секундах. Defaults to None.\n",
    "        threshold (int, optional): Порог различия между кадрами. Defaults to 120.\n",
    "        frame_limit (int, optional): Лимит кадров для смешивания. Defaults to 100.\n",
    "        step_frames (int, optional): Шаг кадров для чтения видео. Defaults to 5.\n",
    "\n",
    "    Yield:\n",
    "        tuple (numpy.ndarray, list): Смешанный кадр и средний идентификатор смешанных кадров.\n",
    "    \"\"\"\n",
    "    if end_time is None:\n",
    "        end_time = len(vr)\n",
    "\n",
    "    frame_id_list = range(start_time, end_time, step_frames)\n",
    "    mixed_frame, frame_iter = None, 0\n",
    "    ids_mixes_list = []\n",
    "    id_begin, id_end = None, None\n",
    "    batch = vr.get_batch(frame_id_list)\n",
    "    for i, frame in enumerate(batch):\n",
    "        frame = frame.numpy()\n",
    "        if mixed_frame is None:\n",
    "            mixed_frame, frame_iter = frame, 1\n",
    "            id_begin = i * step_frames\n",
    "            continue\n",
    "        if frame_iter >= frame_limit:\n",
    "            id_end = i * step_frames\n",
    "            mean_id_mix = (id_begin + id_end) // 2\n",
    "\n",
    "            yield mixed_frame, mean_id_mix\n",
    "            mixed_frame, frame_iter = frame, 1\n",
    "            id_begin = (i+1) * step_frames\n",
    "            continue\n",
    "\n",
    "        frame_iter += 1\n",
    "        # diff = abs(frame.numpy() - mixed_frame.numpy())\n",
    "        diff = abs(frame - mixed_frame)\n",
    "\n",
    "        if diff.mean() > threshold:\n",
    "            # yield torch.tensor(mixed_frame)\n",
    "            id_end = i * step_frames\n",
    "            mean_id_mix = (id_begin + id_end) // 2\n",
    "            yield mixed_frame, mean_id_mix\n",
    "            mixed_frame, frame_iter = frame, 1\n",
    "            id_begin = (i+1) * step_frames\n",
    "            continue\n",
    "\n",
    "        # mixed_frame = cv2.addWeighted(mixed_frame.numpy(), 0.5, frame.numpy(), 0.5, 0)\n",
    "        mixed_frame = cv2.addWeighted(mixed_frame, 0.5, frame, 0.5, 0)\n",
    "        # mixed_frame = torch.tensor(mixed_frame)\n",
    "    id_end = len(batch) * step_frames\n",
    "    mean_id_mix = (id_begin + id_end) // 2\n",
    "    yield mixed_frame, mean_id_mix"
   ]
  },
  {
   "cell_type": "markdown",
   "metadata": {},
   "source": [
    "### Load modules"
   ]
  },
  {
   "cell_type": "code",
   "execution_count": 14,
   "metadata": {},
   "outputs": [],
   "source": [
    "def to_tensor(mix_list :tuple) -> torch.Tensor:\n",
    "    return torch.tensor(mix_list).permute(3, 0, 1, 2).to(torch.float32)"
   ]
  },
  {
   "cell_type": "code",
   "execution_count": 5,
   "metadata": {},
   "outputs": [
    {
     "name": "stdout",
     "output_type": "stream",
     "text": [
      "video_duration: 70.3, fps: 24.0\n",
      "frames: 1687\n"
     ]
    }
   ],
   "source": [
    "file_path =  str(VIDEO_DIR / \"video.mp4\")\n",
    "vr = VideoReader(file_path, ctx=cpu(0), num_threads=4)\n",
    "total_frames = len(vr)\n",
    "fps = int(vr.get_avg_fps())\n",
    "duration = total_frames / fps\n",
    "print(\"video_duration: {:.1f}, fps: {:.1f}\".format(duration, fps))\n",
    "print(f\"frames: {total_frames}\")"
   ]
  },
  {
   "cell_type": "code",
   "execution_count": 6,
   "metadata": {},
   "outputs": [
    {
     "data": {
      "text/plain": [
       "24"
      ]
     },
     "execution_count": 6,
     "metadata": {},
     "output_type": "execute_result"
    }
   ],
   "source": [
    "th = 255/2\n",
    "sec = 10\n",
    "k = 3\n",
    "gen = video_mixer(vr,\n",
    "                threshold=th,\n",
    "                frame_limit=fps*sec,\n",
    "                step_frames=k,\n",
    "                )\n",
    "mix_lst, mean_id_mixes = zip(*gen)\n",
    "\n",
    "# k = 3\n",
    "# mix_lst = list(video_mixer(vr,\n",
    "#                            threshold=255/2,\n",
    "#                            frame_limit=k*int(fps),\n",
    "#                            step_frames=4,\n",
    "#                            ))\n",
    "len(mix_lst)"
   ]
  },
  {
   "cell_type": "code",
   "execution_count": 16,
   "metadata": {},
   "outputs": [
    {
     "data": {
      "text/plain": [
       "tensor([[[[  0.,   0.,   0.,  ...,   0.,   0.,   0.],\n",
       "          [  0.,   0.,   0.,  ...,   0.,   0.,   0.],\n",
       "          [  0.,   0.,   0.,  ...,   0.,   0.,   0.],\n",
       "          ...,\n",
       "          [  0.,   0.,   0.,  ...,   0.,   0.,   0.],\n",
       "          [  0.,   0.,   0.,  ...,   0.,   0.,   0.],\n",
       "          [  0.,   0.,   0.,  ...,   0.,   0.,   0.]],\n",
       "\n",
       "         [[  2.,   2.,   2.,  ...,   2.,   2.,   2.],\n",
       "          [  2.,   2.,   2.,  ...,   2.,   2.,   2.],\n",
       "          [  2.,   2.,   2.,  ...,   2.,   2.,   2.],\n",
       "          ...,\n",
       "          [  2.,   2.,   2.,  ...,  79.,  79.,  79.],\n",
       "          [  2.,   2.,   2.,  ...,  79.,  79.,  79.],\n",
       "          [  2.,   2.,   2.,  ...,  80.,  80.,  80.]],\n",
       "\n",
       "         [[113., 113., 113.,  ...,  84.,  84.,  84.],\n",
       "          [113., 113., 113.,  ...,  84.,  84.,  84.],\n",
       "          [114., 114., 114.,  ...,  84.,  84.,  84.],\n",
       "          ...,\n",
       "          [  8.,   8.,   8.,  ...,   0.,   0.,   0.],\n",
       "          [  8.,   8.,   9.,  ...,   0.,   0.,   0.],\n",
       "          [  8.,   8.,   8.,  ...,   0.,   0.,   0.]],\n",
       "\n",
       "         ...,\n",
       "\n",
       "         [[126., 126., 128.,  ..., 119., 120., 120.],\n",
       "          [126., 126., 128.,  ..., 122., 124., 122.],\n",
       "          [130., 130., 131.,  ..., 128., 130., 130.],\n",
       "          ...,\n",
       "          [ 63.,  63.,  63.,  ...,  38.,  38.,  38.],\n",
       "          [ 62.,  62.,  62.,  ...,  38.,  40.,  40.],\n",
       "          [ 62.,  62.,  62.,  ...,  39.,  40.,  40.]],\n",
       "\n",
       "         [[168., 170., 170.,  ..., 164., 164., 164.],\n",
       "          [168., 171., 170.,  ..., 164., 164., 164.],\n",
       "          [168., 171., 170.,  ..., 166., 166., 165.],\n",
       "          ...,\n",
       "          [127., 127., 127.,  ..., 110., 112., 112.],\n",
       "          [126., 126., 126.,  ..., 110., 112., 112.],\n",
       "          [126., 126., 126.,  ..., 110., 112., 112.]],\n",
       "\n",
       "         [[224., 224., 224.,  ..., 224., 224., 224.],\n",
       "          [224., 224., 224.,  ..., 224., 224., 224.],\n",
       "          [224., 224., 224.,  ..., 224., 224., 224.],\n",
       "          ...,\n",
       "          [224., 224., 224.,  ..., 224., 224., 224.],\n",
       "          [224., 224., 224.,  ..., 224., 224., 224.],\n",
       "          [224., 224., 224.,  ..., 224., 224., 224.]]],\n",
       "\n",
       "\n",
       "        [[[  0.,   0.,   0.,  ...,   0.,   0.,   0.],\n",
       "          [  0.,   0.,   0.,  ...,   0.,   0.,   0.],\n",
       "          [  0.,   0.,   0.,  ...,   0.,   0.,   0.],\n",
       "          ...,\n",
       "          [  0.,   0.,   0.,  ...,   0.,   0.,   0.],\n",
       "          [  0.,   0.,   0.,  ...,   0.,   0.,   0.],\n",
       "          [  0.,   0.,   0.,  ...,   0.,   0.,   0.]],\n",
       "\n",
       "         [[  2.,   2.,   2.,  ...,   2.,   2.,   2.],\n",
       "          [  2.,   2.,   2.,  ...,   2.,   2.,   2.],\n",
       "          [  2.,   2.,   2.,  ...,   2.,   2.,   2.],\n",
       "          ...,\n",
       "          [  2.,   2.,   2.,  ..., 108., 108., 108.],\n",
       "          [  2.,   2.,   2.,  ..., 108., 108., 108.],\n",
       "          [  2.,   2.,   2.,  ..., 109., 109., 109.]],\n",
       "\n",
       "         [[138., 138., 138.,  ..., 108., 108., 108.],\n",
       "          [138., 138., 138.,  ..., 108., 108., 108.],\n",
       "          [139., 139., 140.,  ..., 108., 108., 108.],\n",
       "          ...,\n",
       "          [ 11.,  11.,  12.,  ...,   0.,   0.,   0.],\n",
       "          [ 10.,  10.,  11.,  ...,   0.,   0.,   0.],\n",
       "          [ 10.,  10.,  10.,  ...,   0.,   0.,   0.]],\n",
       "\n",
       "         ...,\n",
       "\n",
       "         [[ 63.,  64.,  65.,  ..., 110., 108., 107.],\n",
       "          [ 63.,  64.,  65.,  ..., 112., 112., 110.],\n",
       "          [ 72.,  72.,  73.,  ..., 117., 116., 118.],\n",
       "          ...,\n",
       "          [ 37.,  37.,  37.,  ...,  23.,  24.,  24.],\n",
       "          [ 36.,  36.,  36.,  ...,  24.,  25.,  26.],\n",
       "          [ 35.,  35.,  36.,  ...,  24.,  26.,  26.]],\n",
       "\n",
       "         [[ 67.,  69.,  70.,  ...,  96.,  94.,  94.],\n",
       "          [ 68.,  70.,  70.,  ...,  96.,  94.,  94.],\n",
       "          [ 72.,  74.,  74.,  ...,  96.,  96.,  95.],\n",
       "          ...,\n",
       "          [ 52.,  52.,  52.,  ...,  40.,  42.,  42.],\n",
       "          [ 51.,  51.,  51.,  ...,  40.,  42.,  42.],\n",
       "          [ 50.,  50.,  50.,  ...,  40.,  42.,  42.]],\n",
       "\n",
       "         [[ 72.,  72.,  72.,  ...,  72.,  72.,  72.],\n",
       "          [ 72.,  72.,  72.,  ...,  72.,  72.,  72.],\n",
       "          [ 72.,  72.,  72.,  ...,  72.,  72.,  72.],\n",
       "          ...,\n",
       "          [ 72.,  72.,  72.,  ...,  72.,  72.,  72.],\n",
       "          [ 72.,  72.,  72.,  ...,  72.,  72.,  72.],\n",
       "          [ 72.,  72.,  72.,  ...,  72.,  72.,  72.]]],\n",
       "\n",
       "\n",
       "        [[[  0.,   0.,   0.,  ...,   0.,   0.,   0.],\n",
       "          [  0.,   0.,   0.,  ...,   0.,   0.,   0.],\n",
       "          [  0.,   0.,   0.,  ...,   0.,   0.,   0.],\n",
       "          ...,\n",
       "          [  0.,   0.,   0.,  ...,   0.,   0.,   0.],\n",
       "          [  0.,   0.,   0.,  ...,   0.,   0.,   0.],\n",
       "          [  0.,   0.,   0.,  ...,   0.,   0.,   0.]],\n",
       "\n",
       "         [[  2.,   2.,   2.,  ...,   2.,   2.,   2.],\n",
       "          [  2.,   2.,   2.,  ...,   2.,   2.,   2.],\n",
       "          [  2.,   2.,   2.,  ...,   2.,   2.,   2.],\n",
       "          ...,\n",
       "          [  2.,   2.,   2.,  ..., 119., 119., 119.],\n",
       "          [  2.,   2.,   2.,  ..., 119., 119., 119.],\n",
       "          [  2.,   2.,   2.,  ..., 120., 120., 120.]],\n",
       "\n",
       "         [[150., 150., 150.,  ..., 117., 117., 117.],\n",
       "          [150., 150., 150.,  ..., 117., 117., 117.],\n",
       "          [151., 151., 152.,  ..., 117., 117., 117.],\n",
       "          ...,\n",
       "          [ 13.,  13.,  14.,  ...,   0.,   0.,   0.],\n",
       "          [ 12.,  12.,  13.,  ...,   0.,   0.,   0.],\n",
       "          [ 12.,  12.,  12.,  ...,   0.,   0.,   0.]],\n",
       "\n",
       "         ...,\n",
       "\n",
       "         [[ 14.,  14.,  16.,  ...,  94.,  93.,  92.],\n",
       "          [ 14.,  14.,  16.,  ...,  97.,  97.,  95.],\n",
       "          [ 16.,  16.,  18.,  ..., 102., 102., 102.],\n",
       "          ...,\n",
       "          [ 19.,  19.,  19.,  ...,  18.,  20.,  20.],\n",
       "          [ 18.,  18.,  18.,  ...,  20.,  21.,  22.],\n",
       "          [ 17.,  17.,  18.,  ...,  20.,  21.,  22.]],\n",
       "\n",
       "         [[ 12.,  14.,  10.,  ...,  58.,  61.,  60.],\n",
       "          [ 12.,  14.,  10.,  ...,  58.,  61.,  60.],\n",
       "          [ 11.,  14.,  10.,  ...,  60.,  62.,  62.],\n",
       "          ...,\n",
       "          [ 14.,  14.,  14.,  ...,  10.,  12.,  12.],\n",
       "          [ 13.,  13.,  13.,  ...,  10.,  12.,  12.],\n",
       "          [ 12.,  12.,  12.,  ...,  10.,  12.,  12.]],\n",
       "\n",
       "         [[  0.,   0.,   0.,  ...,   0.,   0.,   0.],\n",
       "          [  0.,   0.,   0.,  ...,   0.,   0.,   0.],\n",
       "          [  0.,   0.,   0.,  ...,   0.,   0.,   0.],\n",
       "          ...,\n",
       "          [  0.,   0.,   0.,  ...,   0.,   0.,   0.],\n",
       "          [  0.,   0.,   0.,  ...,   0.,   0.,   0.],\n",
       "          [  0.,   0.,   0.,  ...,   0.,   0.,   0.]]]])"
      ]
     },
     "execution_count": 16,
     "metadata": {},
     "output_type": "execute_result"
    }
   ],
   "source": [
    "to_tensor()"
   ]
  },
  {
   "cell_type": "code",
   "execution_count": 7,
   "metadata": {},
   "outputs": [
    {
     "data": {
      "text/plain": [
       "(55,\n",
       " 115,\n",
       " 121,\n",
       " 231,\n",
       " 529,\n",
       " 723,\n",
       " 727,\n",
       " 765,\n",
       " 801,\n",
       " 804,\n",
       " 807,\n",
       " 823,\n",
       " 862,\n",
       " 888,\n",
       " 891,\n",
       " 894,\n",
       " 897,\n",
       " 1003,\n",
       " 1117,\n",
       " 1246,\n",
       " 1423,\n",
       " 1524,\n",
       " 1570,\n",
       " 1632)"
      ]
     },
     "execution_count": 7,
     "metadata": {},
     "output_type": "execute_result"
    }
   ],
   "source": [
    "mean_id_mixes"
   ]
  },
  {
   "cell_type": "code",
   "execution_count": 8,
   "metadata": {},
   "outputs": [],
   "source": [
    "test_fps = 1.0\n",
    "fourcc = cv2.VideoWriter_fourcc(*'mp4v')\n",
    "\n",
    "width, height = mix_lst[0].shape[1], mix_lst[0].shape[0]\n",
    "\n",
    "# Create a VideoWriter object\n",
    "video_writer = cv2.VideoWriter('output.mp4', fourcc, fps, (width, height))\n",
    "\n",
    "# Iterate through the frames and write them to the video\n",
    "for frame in mix_lst:\n",
    "    frame = cv2.cvtColor(frame, cv2.COLOR_RGB2BGR)\n",
    "\n",
    "    video_writer.write(frame)\n",
    "\n",
    "# Release the VideoWriter object\n",
    "video_writer.release()"
   ]
  },
  {
   "cell_type": "code",
   "execution_count": 9,
   "metadata": {},
   "outputs": [],
   "source": [
    "# torch.Size([3, frames_size=20, 360, 640])\n",
    "# video.shape"
   ]
  }
 ],
 "metadata": {
  "kernelspec": {
   "display_name": "MA-LMM-main-7M0IOe3A",
   "language": "python",
   "name": "python3"
  },
  "language_info": {
   "codemirror_mode": {
    "name": "ipython",
    "version": 3
   },
   "file_extension": ".py",
   "mimetype": "text/x-python",
   "name": "python",
   "nbconvert_exporter": "python",
   "pygments_lexer": "ipython3",
   "version": "3.10.12"
  }
 },
 "nbformat": 4,
 "nbformat_minor": 2
}
